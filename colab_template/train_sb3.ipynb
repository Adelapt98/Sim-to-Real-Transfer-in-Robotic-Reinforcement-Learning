{
  "cells": [
    {
      "cell_type": "markdown",
      "metadata": {
        "id": "Siz3Hiq1JUZ1"
      },
      "source": [
        "Install and load all dependencies (first time only) \\\n",
        "NOTE: you may need to restart the runtime afterwards (CTRL+M .)."
      ]
    },
    {
      "cell_type": "code",
      "execution_count": null,
      "metadata": {
        "id": "AW6XT0jSJI8e"
      },
      "outputs": [],
      "source": [
        "!apt-get install -y \\\n",
        "    libgl1-mesa-dev \\\n",
        "    libgl1-mesa-glx \\\n",
        "    libglew-dev \\\n",
        "    libosmesa6-dev \\\n",
        "    software-properties-common\n",
        "\n",
        "!apt-get install -y patchelf\n",
        "\n",
        "!pip install gym\n",
        "!pip install free-mujoco-py\n",
        "!pip install stable-baselines3[extra]"
      ]
    },
    {
      "cell_type": "markdown",
      "metadata": {
        "id": "gwIRXGd5K3xJ"
      },
      "source": [
        "Set up the custom Hopper environment\n",
        "\n",
        "\n",
        "\n",
        "1.   Upload `classes.zip` to the current session's file storage\n",
        "2.   Un-zip it by running cell below\n"
      ]
    },
    {
      "cell_type": "code",
      "execution_count": null,
      "metadata": {
        "id": "T9WsofDVLaCC"
      },
      "outputs": [],
      "source": [
        "!unzip classes.zip"
      ]
    },
    {
      "cell_type": "markdown",
      "metadata": {
        "id": "7pJC_JevLf1f"
      },
      "source": [
        "\n",
        "\n",
        "---\n",
        "\n"
      ]
    },
    {
      "cell_type": "markdown",
      "metadata": {
        "id": "W4NsuF6pJPVJ"
      },
      "source": [
        "\\\n",
        "\n",
        "**Train an RL agent on the OpenAI Gym Hopper environment using REINFORCE and Actor-critic algorithms**\n",
        "\n",
        "\\\n",
        "\n",
        "\n",
        "TASK 2 and 3: interleave data collection to policy updates"
      ]
    },
    {
      "cell_type": "code",
      "execution_count": null,
      "metadata": {
        "id": "uTYmUufrJTNl"
      },
      "outputs": [],
      "source": [
        "import gym\n",
        "from env.custom_hopper import *\n",
        "import os\n",
        "from stable_baselines3 import PPO, SAC\n",
        "from stable_baselines3.common.callbacks import CheckpointCallback, EvalCallback"
      ]
    },
    {
      "cell_type": "code",
      "execution_count": null,
      "metadata": {
        "id": "55n6YFo1NBNm"
      },
      "outputs": [],
      "source": [
        "n_episodes = 300000\n",
        "print_every = 1000\n",
        "device = 'cpu'\n",
        "algorithm = 'PPO' # choices=['PPO', 'SAC']\n",
        "env_id = 'CustomHopper-source-v0' # choices=['CustomHopper-source-v0', 'CustomHopper-target-v0']\n",
        "save_path = './models/'\n",
        "log_path = './logs/'"
      ]
    },
    {
      "cell_type": "code",
      "execution_count": null,
      "metadata": {
        "id": "QcCfCGg-Jyc3"
      },
      "outputs": [],
      "source": [
        "env = gym.make(env_id)\n",
        "\n",
        "print('Action space:', env.action_space)\n",
        "print('State space:', env.observation_space)\n",
        "print('Dynamics parameters:', env.get_parameters())\n",
        "\n",
        "os.makedirs(save_path, exist_ok=True)\n",
        "os.makedirs(log_path, exist_ok=True)"
      ]
    },
    {
      "cell_type": "code",
      "execution_count": null,
      "metadata": {},
      "outputs": [],
      "source": [
        "\"\"\"\n",
        "  Training\n",
        "\"\"\"\n",
        "model_params = {\n",
        "    'n_steps': 2048,      # Number of steps to run for each environment per update\n",
        "    'batch_size': 64,\n",
        "    'gamma': 0.99,        # Discount factor\n",
        "    'learning_rate': 3e-4 \n",
        "}\n",
        "\n",
        "if algorithm == 'PPO':\n",
        "    model = PPO('MlpPolicy', env, verbose=1, tensorboard_log=log_path)\n",
        "elif algorithm == 'SAC':\n",
        "    model = SAC('MlpPolicy', env, verbose=1, tensorboard_log=log_path)\n",
        "else:\n",
        "    raise ValueError(\"Algorithm not supported\")\n",
        "\n",
        "checkpoint_callback = CheckpointCallback(save_freq=10000, save_path=save_path,\n",
        "                                            name_prefix='rl_model')\n",
        "\n",
        "#eval_env = CustomHopperEnv() if env_id == 'CustomHopper' else gym.make(env_id)\n",
        "eval_env = gym.make(env_id)\n",
        "eval_callback = EvalCallback(eval_env, best_model_save_path=save_path,\n",
        "                                log_path=log_path, eval_freq=5000,\n",
        "                                deterministic=True, render=False)\n",
        "\n",
        "model.learn(total_timesteps=n_episodes, callback=[checkpoint_callback, eval_callback])\n",
        "model.save(os.path.join(save_path, f\"{algorithm}_final_model\"))"
      ]
    }
  ],
  "metadata": {
    "colab": {
      "provenance": []
    },
    "kernelspec": {
      "display_name": "Python 3",
      "name": "python3"
    },
    "language_info": {
      "name": "python"
    }
  },
  "nbformat": 4,
  "nbformat_minor": 0
}
