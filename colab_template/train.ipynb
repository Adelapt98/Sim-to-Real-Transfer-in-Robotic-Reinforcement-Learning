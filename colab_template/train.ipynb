{
  "cells": [
    {
      "cell_type": "markdown",
      "metadata": {
        "id": "Siz3Hiq1JUZ1"
      },
      "source": [
        "Install and load all dependencies (first time only) \\\n",
        "NOTE: you may need to restart the runtime afterwards (CTRL+M .)."
      ]
    },
    {
      "cell_type": "code",
      "execution_count": null,
      "metadata": {
        "id": "AW6XT0jSJI8e"
      },
      "outputs": [],
      "source": [
        "!apt-get install -y \\\n",
        "    libgl1-mesa-dev \\\n",
        "    libgl1-mesa-glx \\\n",
        "    libglew-dev \\\n",
        "    libosmesa6-dev \\\n",
        "    software-properties-common\n",
        "\n",
        "!apt-get install -y patchelf\n",
        "\n",
        "!pip install gym\n",
        "!pip install free-mujoco-py"
      ]
    },
    {
      "cell_type": "markdown",
      "metadata": {
        "id": "gwIRXGd5K3xJ"
      },
      "source": [
        "Set up the custom Hopper environment\n",
        "\n",
        "\n",
        "\n",
        "1.   Upload `classes.zip` to the current session's file storage\n",
        "2.   Un-zip it by running cell below\n"
      ]
    },
    {
      "cell_type": "code",
      "execution_count": null,
      "metadata": {
        "id": "T9WsofDVLaCC"
      },
      "outputs": [],
      "source": [
        "!unzip classes.zip"
      ]
    },
    {
      "cell_type": "markdown",
      "metadata": {
        "id": "7pJC_JevLf1f"
      },
      "source": [
        "\n",
        "\n",
        "---\n",
        "\n"
      ]
    },
    {
      "cell_type": "markdown",
      "metadata": {
        "id": "W4NsuF6pJPVJ"
      },
      "source": [
        "\\\n",
        "\n",
        "**Train an RL agent on the OpenAI Gym Hopper environment using REINFORCE and Actor-critic algorithms**\n",
        "\n",
        "\\\n",
        "\n",
        "\n",
        "TASK 2 and 3: interleave data collection to policy updates"
      ]
    },
    {
      "cell_type": "code",
      "execution_count": null,
      "metadata": {
        "id": "uTYmUufrJTNl"
      },
      "outputs": [],
      "source": [
        "import argparse\n",
        "\n",
        "import torch\n",
        "import gym\n",
        "\n",
        "from env.custom_hopper import *\n",
        "from agent import Agent, Policy"
      ]
    },
    {
      "cell_type": "code",
      "execution_count": null,
      "metadata": {
        "id": "55n6YFo1NBNm"
      },
      "outputs": [],
      "source": [
        "n_episodes = 100000\n",
        "print_every = 20000\n",
        "device = 'cpu'\n",
        "algorithm = 'reinforce' # choices=['reinforce', 'reinforce_baseline']"
      ]
    },
    {
      "cell_type": "code",
      "execution_count": null,
      "metadata": {
        "id": "QcCfCGg-Jyc3"
      },
      "outputs": [],
      "source": [
        "env = gym.make('CustomHopper-source-v0')\n",
        "# env = gym.make('CustomHopper-target-v0')\n",
        "\n",
        "print('Action space:', env.action_space)\n",
        "print('State space:', env.observation_space)\n",
        "print('Dynamics parameters:', env.get_parameters())"
      ]
    },
    {
      "cell_type": "code",
      "execution_count": null,
      "metadata": {
        "id": "DT1oXr8HJ05h"
      },
      "outputs": [],
      "source": [
        "\"\"\"\n",
        "  Training\n",
        "\"\"\"\n",
        "observation_space_dim = env.observation_space.shape[-1]\n",
        "action_space_dim = env.action_space.shape[-1]\n",
        "\n",
        "policy = Policy(observation_space_dim, action_space_dim)\n",
        "agent = Agent(policy, device=device)\n",
        "\n",
        "for episode in range(n_episodes):\n",
        "  done = False\n",
        "  train_reward = 0\n",
        "  state = env.reset()  # Reset the environment and observe the initial state\n",
        "\n",
        "  while not done:  # Loop until the episode is over\n",
        "\n",
        "    action, action_probabilities = agent.get_action(state)\n",
        "    previous_state = state\n",
        "\n",
        "    state, reward, done, info = env.step(action.detach().cpu().numpy())\n",
        "\n",
        "    agent.store_outcome(previous_state, state, action_probabilities, reward, done)\n",
        "\n",
        "    train_reward += reward\n",
        "    \n",
        "  agent.update_policy(algorithm)  # Update the policy after each episode\n",
        "\n",
        "  if (episode+1)%print_every == 0:\n",
        "    print('Training episode:', episode)\n",
        "    print('Episode return:', train_reward)\n",
        "\n",
        "\n",
        "\n",
        "torch.save(agent.policy.state_dict(), \"model.mdl\")"
      ]
    }
  ],
  "metadata": {
    "colab": {
      "provenance": []
    },
    "kernelspec": {
      "display_name": "Python 3",
      "name": "python3"
    },
    "language_info": {
      "name": "python"
    }
  },
  "nbformat": 4,
  "nbformat_minor": 0
}
