{
  "cells": [
    {
      "cell_type": "markdown",
      "metadata": {
        "id": "Siz3Hiq1JUZ1"
      },
      "source": [
        "Install and load all dependencies (first time only) \\\n",
        "NOTE: you may need to restart the runtime afterwards (CTRL+M .)."
      ]
    },
    {
      "cell_type": "code",
      "execution_count": null,
      "metadata": {
        "id": "AW6XT0jSJI8e"
      },
      "outputs": [],
      "source": [
        "!apt-get install -y \\\n",
        "    libgl1-mesa-dev \\\n",
        "    libgl1-mesa-glx \\\n",
        "    libglew-dev \\\n",
        "    libosmesa6-dev \\\n",
        "    software-properties-common\n",
        "\n",
        "!apt-get install -y patchelf\n",
        "\n",
        "!pip install gym\n",
        "!pip install free-mujoco-py"
      ]
    },
    {
      "cell_type": "markdown",
      "metadata": {
        "id": "gwIRXGd5K3xJ"
      },
      "source": [
        "Set up the custom Hopper environment\n",
        "\n",
        "\n",
        "\n",
        "1.   Upload `classes.zip` to the current session's file storage\n",
        "2.   Un-zip it by running cell below\n"
      ]
    },
    {
      "cell_type": "code",
      "execution_count": null,
      "metadata": {
        "id": "T9WsofDVLaCC"
      },
      "outputs": [],
      "source": [
        "!unzip classes.zip"
      ]
    },
    {
      "cell_type": "markdown",
      "metadata": {
        "id": "7pJC_JevLf1f"
      },
      "source": [
        "\n",
        "\n",
        "---\n",
        "\n"
      ]
    },
    {
      "cell_type": "markdown",
      "metadata": {
        "id": "W4NsuF6pJPVJ"
      },
      "source": [
        "\\\n",
        "\n",
        "**Test an RL agent on the OpenAI Gym Hopper environment**\n",
        "\n",
        "\\"
      ]
    },
    {
      "cell_type": "code",
      "execution_count": null,
      "metadata": {
        "id": "uTYmUufrJTNl"
      },
      "outputs": [],
      "source": [
        "import torch\n",
        "import gym\n",
        "\n",
        "from env.custom_hopper import *\n",
        "from agent import Agent, Policy"
      ]
    },
    {
      "cell_type": "code",
      "execution_count": 2,
      "metadata": {
        "id": "55n6YFo1NBNm"
      },
      "outputs": [],
      "source": [
        "model = None # Fill in model path\n",
        "device = 'cpu'\n",
        "episodes = 100"
      ]
    },
    {
      "cell_type": "code",
      "execution_count": null,
      "metadata": {
        "id": "QcCfCGg-Jyc3"
      },
      "outputs": [],
      "source": [
        "env = gym.make('CustomHopper-source-v0')\n",
        "# env = gym.make('CustomHopper-target-v0')\n",
        "\n",
        "print('Action space:', env.action_space)\n",
        "print('State space:', env.observation_space)\n",
        "print('Dynamics parameters:', env.get_parameters())\n",
        "\n",
        "observation_space_dim = env.observation_space.shape[-1]\n",
        "action_space_dim = env.action_space.shape[-1]\n",
        "\n",
        "policy = Policy(observation_space_dim, action_space_dim)\n",
        "policy.load_state_dict(torch.load(model), strict=True)\n",
        "\n",
        "agent = Agent(policy, device=device)"
      ]
    },
    {
      "cell_type": "code",
      "execution_count": null,
      "metadata": {
        "id": "DT1oXr8HJ05h"
      },
      "outputs": [],
      "source": [
        "total_reward = 0\n",
        "for episode in range(episodes):\n",
        "  done = False\n",
        "  test_reward = 0\n",
        "  state = env.reset()\n",
        "\n",
        "  while not done:\n",
        "    action, _ = agent.get_action(state, evaluation=True)\n",
        "    \n",
        "    state, reward, done, info = env.step(action.detach().cpu().numpy())\n",
        "\n",
        "    test_reward += reward\n",
        "\n",
        "  print(f\"Episode: {episode} | Return: {test_reward}\")\n",
        "  total_reward += test_reward\n",
        "print(f\"average reward: {total_reward / episodes}\")"
      ]
    }
  ],
  "metadata": {
    "colab": {
      "collapsed_sections": [],
      "name": "test.ipynb",
      "provenance": []
    },
    "kernelspec": {
      "display_name": "Python 3",
      "name": "python3"
    },
    "language_info": {
      "name": "python"
    }
  },
  "nbformat": 4,
  "nbformat_minor": 0
}
