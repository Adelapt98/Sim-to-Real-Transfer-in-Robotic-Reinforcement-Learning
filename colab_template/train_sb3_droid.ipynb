{
  "cells": [
    {
      "cell_type": "markdown",
      "metadata": {
        "id": "Siz3Hiq1JUZ1"
      },
      "source": [
        "Install and load all dependencies (first time only) \\\n",
        "NOTE: you may need to restart the runtime afterwards (CTRL+M .)."
      ]
    },
    {
      "cell_type": "code",
      "execution_count": null,
      "metadata": {
        "id": "AW6XT0jSJI8e"
      },
      "outputs": [],
      "source": [
        "!apt-get install -y \\\n",
        "    libgl1-mesa-dev \\\n",
        "    libgl1-mesa-glx \\\n",
        "    libglew-dev \\\n",
        "    libosmesa6-dev \\\n",
        "    software-properties-common\n",
        "\n",
        "!apt-get install -y patchelf\n",
        "\n",
        "!pip install gym\n",
        "!pip install free-mujoco-py\n",
        "!pip install stable-baselines3\n",
        "!pip install cma"
      ]
    },
    {
      "cell_type": "markdown",
      "metadata": {
        "id": "gwIRXGd5K3xJ"
      },
      "source": [
        "Set up the custom Hopper environment\n",
        "\n",
        "\n",
        "\n",
        "1.   Upload `classes.zip` to the current session's file storage\n",
        "2.   Un-zip it by running cell below\n"
      ]
    },
    {
      "cell_type": "code",
      "execution_count": null,
      "metadata": {
        "id": "T9WsofDVLaCC"
      },
      "outputs": [],
      "source": [
        "!unzip classes.zip"
      ]
    },
    {
      "cell_type": "markdown",
      "metadata": {
        "id": "7pJC_JevLf1f"
      },
      "source": [
        "\n",
        "\n",
        "---\n",
        "\n"
      ]
    },
    {
      "cell_type": "markdown",
      "metadata": {
        "id": "W4NsuF6pJPVJ"
      },
      "source": [
        "\\\n",
        "\n",
        "**Train an RL agent on the OpenAI Gym Hopper environment using REINFORCE and Actor-critic algorithms**\n",
        "\n",
        "\\\n",
        "\n",
        "\n",
        "TASK 2 and 3: interleave data collection to policy updates"
      ]
    },
    {
      "cell_type": "code",
      "execution_count": null,
      "metadata": {
        "id": "uTYmUufrJTNl"
      },
      "outputs": [],
      "source": [
        "import gym\n",
        "import os\n",
        "from stable_baselines3 import PPO\n",
        "from stable_baselines3.common.callbacks import CheckpointCallback, EvalCallback\n",
        "from env.custom_hopper import *\n",
        "from stable_baselines3.common.evaluation import evaluate_policy"
      ]
    },
    {
      "cell_type": "code",
      "execution_count": null,
      "metadata": {
        "id": "55n6YFo1NBNm"
      },
      "outputs": [],
      "source": [
        "n_episodes = 300000\n",
        "print_every = 1000\n",
        "device = 'cpu'\n",
        "algorithm = 'PPO' # choices=['PPO']\n",
        "env_id = 'CustomHopper-sudr-v0' # choices=['CustomHopper-source-v0', 'CustomHopper-target-v0', 'CustomHopper-sudr-v0']\n",
        "save_path = './models/'\n",
        "log_path = './logs/'"
      ]
    },
    {
      "cell_type": "code",
      "execution_count": null,
      "metadata": {
        "id": "QcCfCGg-Jyc3"
      },
      "outputs": [],
      "source": [
        "os.makedirs(save_path, exist_ok=True)\n",
        "os.makedirs(log_path, exist_ok=True)"
      ]
    },
    {
      "cell_type": "code",
      "execution_count": null,
      "metadata": {},
      "outputs": [],
      "source": [
        "# Parameters\n",
        "num_iterations = 3  # Number of times to repeat the optimization and training process\n",
        "best_mean_reward = -float('inf')\n",
        "best_model = None\n",
        "\n",
        "\n",
        "human = PPO.load(\"PPO_300k_target_2\")\n",
        "\n",
        "for i in range(num_iterations):\n",
        "    print(f\"Iteration {i + 1}/{num_iterations}\")\n",
        "\n",
        "    # Step 1: Collect rewards from the target environment\n",
        "    env_target = gym.make('CustomHopper-target-v0')\n",
        "    real_actions, real_rewards = env_target.unwrapped.collect_real_data(human)\n",
        "\n",
        "\n",
        "    # Step 2: Optimize parameters based on the known torso mass difference\n",
        "    env_source = gym.make('CustomHopper-source-v0')\n",
        "    optimized_params = env_source.unwrapped.random_search_optimization(real_actions, real_rewards)\n",
        "    print(optimized_params)\n",
        "\n",
        "    # Step 3: Train policy using optimized parameters\n",
        "    # trained_model = env_sudr.train_policy1(optimized_params)\n",
        "    \"\"\"Train policy using optimized parameters\"\"\"\n",
        "    env_source.set_parameters(optimized_params)\n",
        "    env_source.unwrapped.set_parameters(optimized_params)\n",
        "\n",
        "    save_path += '_' + str(i)\n",
        "    try:\n",
        "      os.makedirs(save_path, exist_ok=True)\n",
        "    except:\n",
        "      print(save_path + 'exits')\n",
        "\n",
        "    trained_model = PPO('MlpPolicy', env_source, verbose=1, tensorboard_log=log_path)\n",
        "\n",
        "    checkpoint_callback = CheckpointCallback(save_freq=10000, save_path=save_path,\n",
        "                                                name_prefix='rl_model' + str(i))\n",
        "\n",
        "    eval_callback = EvalCallback(env_source, best_model_save_path=save_path,\n",
        "                                    log_path=log_path, eval_freq=5000,\n",
        "                                    deterministic=True, render=False)\n",
        "\n",
        "    trained_model.learn(total_timesteps=n_episodes, callback=[checkpoint_callback, eval_callback])\n",
        "    trained_model.save(os.path.join(save_path, f\"{algorithm}_final_model\"))\n",
        "\n",
        "    # Step 4: Evaluate the policy in the target environment\n",
        "    print(\"Evaluating in target environment (target)...\")\n",
        "    mean_reward, std_reward = evaluate_policy(trained_model, env_target, n_eval_episodes=10)\n",
        "    print(f\"Target Environment - Mean Reward: {mean_reward}, Std Reward: {std_reward}\")\n",
        "\n",
        "    # Save the model if it's the best one\n",
        "    if mean_reward > best_mean_reward:\n",
        "        best_mean_reward = mean_reward\n",
        "        best_model = trained_model\n",
        "        best_model.save(\"ppo_custom_hopper_best\")\n",
        "        best_model.save(\"ppo_custom_hopper_best\" + str(i))\n",
        "\n",
        "    save_path = './models/'\n",
        "\n",
        "    \n",
        "\n",
        "# Load and test the best model\n",
        "best_model = PPO.load(\"ppo_custom_hopper_best\")\n",
        "mean_reward, std_reward = evaluate_policy(best_model, env_target, n_eval_episodes=10)\n",
        "print(f\"Best Model - Mean Reward: {mean_reward}, Std Reward: {std_reward}\")"
      ]
    }
  ],
  "metadata": {
    "colab": {
      "provenance": []
    },
    "kernelspec": {
      "display_name": "Python 3",
      "name": "python3"
    },
    "language_info": {
      "name": "python"
    }
  },
  "nbformat": 4,
  "nbformat_minor": 0
}
