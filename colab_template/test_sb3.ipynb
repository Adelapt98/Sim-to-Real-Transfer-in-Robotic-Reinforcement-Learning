{
  "cells": [
    {
      "cell_type": "markdown",
      "metadata": {
        "id": "Siz3Hiq1JUZ1"
      },
      "source": [
        "Install and load all dependencies (first time only) \\\n",
        "NOTE: you may need to restart the runtime afterwards (CTRL+M .)."
      ]
    },
    {
      "cell_type": "code",
      "execution_count": null,
      "metadata": {
        "id": "AW6XT0jSJI8e"
      },
      "outputs": [],
      "source": [
        "!apt-get install -y \\\n",
        "    libgl1-mesa-dev \\\n",
        "    libgl1-mesa-glx \\\n",
        "    libglew-dev \\\n",
        "    libosmesa6-dev \\\n",
        "    software-properties-common\n",
        "\n",
        "!apt-get install -y patchelf\n",
        "\n",
        "!pip install gym\n",
        "!pip install free-mujoco-py"
      ]
    },
    {
      "cell_type": "markdown",
      "metadata": {
        "id": "gwIRXGd5K3xJ"
      },
      "source": [
        "Set up the custom Hopper environment\n",
        "\n",
        "\n",
        "\n",
        "1.   Upload `classes.zip` to the current session's file storage\n",
        "2.   Un-zip it by running cell below\n"
      ]
    },
    {
      "cell_type": "code",
      "execution_count": null,
      "metadata": {
        "id": "T9WsofDVLaCC"
      },
      "outputs": [],
      "source": [
        "!unzip classes.zip"
      ]
    },
    {
      "cell_type": "markdown",
      "metadata": {
        "id": "7pJC_JevLf1f"
      },
      "source": [
        "\n",
        "\n",
        "---\n",
        "\n"
      ]
    },
    {
      "cell_type": "markdown",
      "metadata": {
        "id": "W4NsuF6pJPVJ"
      },
      "source": [
        "\\\n",
        "\n",
        "**Test an RL agent on the OpenAI Gym Hopper environment**\n",
        "\n",
        "\\"
      ]
    },
    {
      "cell_type": "code",
      "execution_count": null,
      "metadata": {
        "id": "uTYmUufrJTNl"
      },
      "outputs": [],
      "source": [
        "import torch\n",
        "import gym\n",
        "\n",
        "from env.custom_hopper import *\n",
        "from stable_baselines3 import PPO, SAC\n",
        "from stable_baselines3.common.callbacks import CheckpointCallback, EvalCallback"
      ]
    },
    {
      "cell_type": "code",
      "execution_count": 2,
      "metadata": {
        "id": "55n6YFo1NBNm"
      },
      "outputs": [],
      "source": [
        "model_path = None # Fill in model path\n",
        "device = 'cpu'\n",
        "episodes = 50\n",
        "print_every = 1000\n",
        "algorithm = 'PPO' # choices=['PPO', 'SAC']\n",
        "env_id = 'CustomHopper-target-v0' # choices=['CustomHopper-source-v0', 'CustomHopper-target-v0']"
      ]
    },
    {
      "cell_type": "code",
      "execution_count": null,
      "metadata": {
        "id": "QcCfCGg-Jyc3"
      },
      "outputs": [],
      "source": [
        "env = gym.make(env_id)\n",
        "    \n",
        "# Load the trained model\n",
        "if algorithm == 'PPO':\n",
        "    model = PPO.load(model_path)\n",
        "elif algorithm == 'SAC':\n",
        "    model = SAC.load(model_path)\n",
        "else:\n",
        "    raise ValueError(\"Algorithm not supported\")\n",
        "\n",
        "# Test the model\n",
        "total_reward = 0\n",
        "for episode in range(episodes):\n",
        "    obs = env.reset()\n",
        "    done = False\n",
        "    episode_reward = 0\n",
        "    while not done:\n",
        "        action, _states = model.predict(obs, deterministic=True)\n",
        "        obs, reward, done, info = env.step(action)\n",
        "        episode_reward += reward\n",
        "        env.render(None)\n",
        "    print(f\"Episode {episode + 1}: Reward = {episode_reward}\")\n",
        "    total_reward += episode_reward\n",
        "print(f\"average reward: {total_reward / episodes}\")"
      ]
    }
  ],
  "metadata": {
    "colab": {
      "collapsed_sections": [],
      "name": "test.ipynb",
      "provenance": []
    },
    "kernelspec": {
      "display_name": "Python 3",
      "name": "python3"
    },
    "language_info": {
      "name": "python"
    }
  },
  "nbformat": 4,
  "nbformat_minor": 0
}
